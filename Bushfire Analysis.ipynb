{
 "cells": [
  {
   "cell_type": "markdown",
   "metadata": {},
   "source": [
    "## Bushfire Analysis using Meteorological Data\n",
    "\n",
    "\n",
    "Sebastian Guerra\n",
    "\n",
    "Programming Language: R 3.5.1 in Jupyter Notebook\n",
    "\n",
    "R Libraries used:\n",
    "- ggplot2\n",
    "- caTools\n",
    "- reshape2\n",
    "- stats\n",
    "- caTools\n",
    "- caret\n",
    "- kernlab"
   ]
  },
  {
   "cell_type": "markdown",
   "metadata": {},
   "source": [
    "## Table of Contents\n",
    "\n",
    "* [Introduction](#sec_1)\n",
    "* [Data Exploration](#sec_2)\n",
    "* [Model Development](#sec_3)\n",
    "* [Model Comparison](#sec_4)\n",
    "* [Variable Identification and Explanation](#sec_5)\n",
    "* [Conclusion](#sec_6)\n",
    "* [References](#sec_7)"
   ]
  },
  {
   "cell_type": "markdown",
   "metadata": {},
   "source": [
    "## 1. Introduction <a class=\"anchor\" id=\"sec_1\"></a>"
   ]
  },
  {
   "cell_type": "markdown",
   "metadata": {},
   "source": [
    "Forest fires has been an issue which causes many damages such as habitat, structure and life loses. In some area the animal’s ecosystem is not able to recover and the human loss tally a big number. An extract from Paulo Cortez and Anibal Morais from there paper: “A Data Mining Approach to Predict Forest Fires using Meteorological Data” give us a new perspective on how to predict forest fires. Using sensors, the tell variables such as temperature, wind, humidity and rain, models can be developed to determine which factor are critical to potentially avoid a fire. On this approach we will measure different models such as linear regression and SVM to determine which one is more accurate. "
   ]
  },
  {
   "cell_type": "markdown",
   "metadata": {},
   "source": [
    "Variables:"
   ]
  },
  {
   "cell_type": "markdown",
   "metadata": {},
   "source": [
    "1. X - x-axis spatial coordinate within the Montesinho park map: 1 to 9\n",
    "2. Y - y-axis spatial coordinate within the Montesinho park map: 2 to 9\n",
    "3. month - month of the year: 'jan' to 'dec'\n",
    "4. day - day of the week: 'mon' to 'sun'\n",
    "5. FFMC - FFMC index from the FWI system: 18.7 to 96.20\n",
    "6. DMC - DMC index from the FWI system: 1.1 to 291.3\n",
    "7. DC - DC index from the FWI system: 7.9 to 860.6\n",
    "8. ISI - ISI index from the FWI system: 0.0 to 56.10\n",
    "9. temp - temperature in Celsius degrees: 2.2 to 33.30\n",
    "10. RH - relative humidity in %: 15.0 to 100\n",
    "11. wind - wind speed in km/h: 0.40 to 9.40\n",
    "12. rain - outside rain in mm/m2 : 0.0 to 6.4\n",
    "13. area - the burned area of the forest (in ha): 0.00 to 1090.84"
   ]
  },
  {
   "cell_type": "markdown",
   "metadata": {},
   "source": [
    "## 2. Data Exploration<a class=\"anchor\" id=\"sec_2\"></a>"
   ]
  },
  {
   "cell_type": "code",
   "execution_count": 1,
   "metadata": {},
   "outputs": [
    {
     "name": "stderr",
     "output_type": "stream",
     "text": [
      "Warning message:\n",
      "\"package 'ggplot2' was built under R version 3.6.3\"Warning message:\n",
      "\"package 'reshape2' was built under R version 3.6.3\"Loading required package: lattice\n",
      "Warning message:\n",
      "\"package 'lattice' was built under R version 3.6.3\"Warning message:\n",
      "\"package 'kernlab' was built under R version 3.6.3\"\n",
      "Attaching package: 'kernlab'\n",
      "\n",
      "The following object is masked from 'package:ggplot2':\n",
      "\n",
      "    alpha\n",
      "\n"
     ]
    }
   ],
   "source": [
    "library(ggplot2)\n",
    "library(reshape2)\n",
    "library(stats)\n",
    "library(caTools)\n",
    "library(caret)\n",
    "library(kernlab)\n",
    "\n"
   ]
  },
  {
   "cell_type": "markdown",
   "metadata": {},
   "source": [
    "First step is to load the data to check if the file loads correctly and see the information. There's 13 variables which 2 of them are categorical which are month and day."
   ]
  },
  {
   "cell_type": "code",
   "execution_count": 2,
   "metadata": {},
   "outputs": [
    {
     "data": {
      "text/html": [
       "<table>\n",
       "<thead><tr><th scope=col>X</th><th scope=col>Y</th><th scope=col>month</th><th scope=col>day</th><th scope=col>FFMC</th><th scope=col>DMC</th><th scope=col>DC</th><th scope=col>ISI</th><th scope=col>temp</th><th scope=col>RH</th><th scope=col>wind</th><th scope=col>rain</th><th scope=col>area</th></tr></thead>\n",
       "<tbody>\n",
       "\t<tr><td>7    </td><td>5    </td><td>mar  </td><td>fri  </td><td>86.2 </td><td>26.2 </td><td> 94.3</td><td> 5.1 </td><td> 8.2 </td><td>51   </td><td>6.7  </td><td>0.0  </td><td>0    </td></tr>\n",
       "\t<tr><td>7    </td><td>4    </td><td>oct  </td><td>tue  </td><td>90.6 </td><td>35.4 </td><td>669.1</td><td> 6.7 </td><td>18.0 </td><td>33   </td><td>0.9  </td><td>0.0  </td><td>0    </td></tr>\n",
       "\t<tr><td>7    </td><td>4    </td><td>oct  </td><td>sat  </td><td>90.6 </td><td>43.7 </td><td>686.9</td><td> 6.7 </td><td>14.6 </td><td>33   </td><td>1.3  </td><td>0.0  </td><td>0    </td></tr>\n",
       "\t<tr><td>8    </td><td>6    </td><td>mar  </td><td>fri  </td><td>91.7 </td><td>33.3 </td><td> 77.5</td><td> 9.0 </td><td> 8.3 </td><td>97   </td><td>4.0  </td><td>0.2  </td><td>0    </td></tr>\n",
       "\t<tr><td>8    </td><td>6    </td><td>mar  </td><td>sun  </td><td>89.3 </td><td>51.3 </td><td>102.2</td><td> 9.6 </td><td>11.4 </td><td>99   </td><td>1.8  </td><td>0.0  </td><td>0    </td></tr>\n",
       "\t<tr><td>8    </td><td>6    </td><td>aug  </td><td>sun  </td><td>92.3 </td><td>85.3 </td><td>488.0</td><td>14.7 </td><td>22.2 </td><td>29   </td><td>5.4  </td><td>0.0  </td><td>0    </td></tr>\n",
       "</tbody>\n",
       "</table>\n"
      ],
      "text/latex": [
       "\\begin{tabular}{r|lllllllllllll}\n",
       " X & Y & month & day & FFMC & DMC & DC & ISI & temp & RH & wind & rain & area\\\\\n",
       "\\hline\n",
       "\t 7     & 5     & mar   & fri   & 86.2  & 26.2  &  94.3 &  5.1  &  8.2  & 51    & 6.7   & 0.0   & 0    \\\\\n",
       "\t 7     & 4     & oct   & tue   & 90.6  & 35.4  & 669.1 &  6.7  & 18.0  & 33    & 0.9   & 0.0   & 0    \\\\\n",
       "\t 7     & 4     & oct   & sat   & 90.6  & 43.7  & 686.9 &  6.7  & 14.6  & 33    & 1.3   & 0.0   & 0    \\\\\n",
       "\t 8     & 6     & mar   & fri   & 91.7  & 33.3  &  77.5 &  9.0  &  8.3  & 97    & 4.0   & 0.2   & 0    \\\\\n",
       "\t 8     & 6     & mar   & sun   & 89.3  & 51.3  & 102.2 &  9.6  & 11.4  & 99    & 1.8   & 0.0   & 0    \\\\\n",
       "\t 8     & 6     & aug   & sun   & 92.3  & 85.3  & 488.0 & 14.7  & 22.2  & 29    & 5.4   & 0.0   & 0    \\\\\n",
       "\\end{tabular}\n"
      ],
      "text/markdown": [
       "\n",
       "| X | Y | month | day | FFMC | DMC | DC | ISI | temp | RH | wind | rain | area |\n",
       "|---|---|---|---|---|---|---|---|---|---|---|---|---|\n",
       "| 7     | 5     | mar   | fri   | 86.2  | 26.2  |  94.3 |  5.1  |  8.2  | 51    | 6.7   | 0.0   | 0     |\n",
       "| 7     | 4     | oct   | tue   | 90.6  | 35.4  | 669.1 |  6.7  | 18.0  | 33    | 0.9   | 0.0   | 0     |\n",
       "| 7     | 4     | oct   | sat   | 90.6  | 43.7  | 686.9 |  6.7  | 14.6  | 33    | 1.3   | 0.0   | 0     |\n",
       "| 8     | 6     | mar   | fri   | 91.7  | 33.3  |  77.5 |  9.0  |  8.3  | 97    | 4.0   | 0.2   | 0     |\n",
       "| 8     | 6     | mar   | sun   | 89.3  | 51.3  | 102.2 |  9.6  | 11.4  | 99    | 1.8   | 0.0   | 0     |\n",
       "| 8     | 6     | aug   | sun   | 92.3  | 85.3  | 488.0 | 14.7  | 22.2  | 29    | 5.4   | 0.0   | 0     |\n",
       "\n"
      ],
      "text/plain": [
       "  X Y month day FFMC DMC  DC    ISI  temp RH wind rain area\n",
       "1 7 5 mar   fri 86.2 26.2  94.3  5.1  8.2 51 6.7  0.0  0   \n",
       "2 7 4 oct   tue 90.6 35.4 669.1  6.7 18.0 33 0.9  0.0  0   \n",
       "3 7 4 oct   sat 90.6 43.7 686.9  6.7 14.6 33 1.3  0.0  0   \n",
       "4 8 6 mar   fri 91.7 33.3  77.5  9.0  8.3 97 4.0  0.2  0   \n",
       "5 8 6 mar   sun 89.3 51.3 102.2  9.6 11.4 99 1.8  0.0  0   \n",
       "6 8 6 aug   sun 92.3 85.3 488.0 14.7 22.2 29 5.4  0.0  0   "
      ]
     },
     "metadata": {},
     "output_type": "display_data"
    }
   ],
   "source": [
    "fires <- read.csv (file=\"forestfires.csv\", header=TRUE, sep=\",\")\n",
    "head(fires)"
   ]
  },
  {
   "cell_type": "code",
   "execution_count": 3,
   "metadata": {},
   "outputs": [
    {
     "data": {
      "text/plain": [
       "       X               Y           month      day          FFMC      \n",
       " Min.   :1.000   Min.   :2.0   aug    :184   fri:85   Min.   :18.70  \n",
       " 1st Qu.:3.000   1st Qu.:4.0   sep    :172   mon:74   1st Qu.:90.20  \n",
       " Median :4.000   Median :4.0   mar    : 54   sat:84   Median :91.60  \n",
       " Mean   :4.669   Mean   :4.3   jul    : 32   sun:95   Mean   :90.64  \n",
       " 3rd Qu.:7.000   3rd Qu.:5.0   feb    : 20   thu:61   3rd Qu.:92.90  \n",
       " Max.   :9.000   Max.   :9.0   jun    : 17   tue:64   Max.   :96.20  \n",
       "                               (Other): 38   wed:54                  \n",
       "      DMC              DC             ISI              temp      \n",
       " Min.   :  1.1   Min.   :  7.9   Min.   : 0.000   Min.   : 2.20  \n",
       " 1st Qu.: 68.6   1st Qu.:437.7   1st Qu.: 6.500   1st Qu.:15.50  \n",
       " Median :108.3   Median :664.2   Median : 8.400   Median :19.30  \n",
       " Mean   :110.9   Mean   :547.9   Mean   : 9.022   Mean   :18.89  \n",
       " 3rd Qu.:142.4   3rd Qu.:713.9   3rd Qu.:10.800   3rd Qu.:22.80  \n",
       " Max.   :291.3   Max.   :860.6   Max.   :56.100   Max.   :33.30  \n",
       "                                                                 \n",
       "       RH              wind            rain              area        \n",
       " Min.   : 15.00   Min.   :0.400   Min.   :0.00000   Min.   :   0.00  \n",
       " 1st Qu.: 33.00   1st Qu.:2.700   1st Qu.:0.00000   1st Qu.:   0.00  \n",
       " Median : 42.00   Median :4.000   Median :0.00000   Median :   0.52  \n",
       " Mean   : 44.29   Mean   :4.018   Mean   :0.02166   Mean   :  12.85  \n",
       " 3rd Qu.: 53.00   3rd Qu.:4.900   3rd Qu.:0.00000   3rd Qu.:   6.57  \n",
       " Max.   :100.00   Max.   :9.400   Max.   :6.40000   Max.   :1090.84  \n",
       "                                                                     "
      ]
     },
     "metadata": {},
     "output_type": "display_data"
    }
   ],
   "source": [
    "summary(fires)"
   ]
  },
  {
   "cell_type": "code",
   "execution_count": 4,
   "metadata": {},
   "outputs": [
    {
     "data": {
      "image/png": "[encoded data removed]",
      "text/plain": [
       "Plot with title \"Histogram of fires$area\""
      ]
     },
     "metadata": {},
     "output_type": "display_data"
    }
   ],
   "source": [
    "hist(fires$area) \n",
    "\n"
   ]
  },
  {
   "cell_type": "markdown",
   "metadata": {},
   "source": [
    "As it can be seen in the histogram, the most common value for the burnt area is 0. Which means that in most cases the conditions where to favorable for a fire to start."
   ]
  },
  {
   "cell_type": "markdown",
   "metadata": {},
   "source": [
    "Having applied a logaritmic scale we can see that the data has a normal distribution"
   ]
  },
  {
   "cell_type": "code",
   "execution_count": 5,
   "metadata": {},
   "outputs": [
    {
     "data": {
      "image/png": "[encoded data removed]",
      "text/plain": [
       "Plot with title \"Histogram of log(fires$area)\""
      ]
     },
     "metadata": {},
     "output_type": "display_data"
    }
   ],
   "source": [
    "logFire <- (hist(log(fires$area)) )\n"
   ]
  },
  {
   "cell_type": "markdown",
   "metadata": {},
   "source": [
    "A Boxplot can give us a better understanding of the data involved. For example the rain in the region is fairly low, meaning it could be potentialy dry and that may be a source of fire.\n",
    "\n",
    "Temp-> The median temperature is around 20 degrees, sometimes the temperature spikes up to 30 degrees which may cause a fire during summer\n",
    "rain -> Most of the rain is close to 0, this could lead into the ideal conditions to lead a fire\n",
    "wind-> The wind could help spread the fire and correlates\n",
    "\n",
    "There is more data exploration to be done in order to draw conclusions but knowing the variables is a good start"
   ]
  },
  {
   "cell_type": "code",
   "execution_count": 6,
   "metadata": {},
   "outputs": [
    {
     "name": "stderr",
     "output_type": "stream",
     "text": [
      "Using month, day as id variables\n"
     ]
    },
    {
     "data": {
      "image/png": "[encoded data removed]",
      "text/plain": [
       "plot without title"
      ]
     },
     "metadata": {},
     "output_type": "display_data"
    }
   ],
   "source": [
    "stats <- melt(as.data.frame(fires[,c(-1,-10)]))\n",
    "ggplot(stats,aes(x = variable,y = value)) +\n",
    "facet_wrap(~variable, scales=\"free\") +\n",
    "geom_boxplot() "
   ]
  },
  {
   "cell_type": "markdown",
   "metadata": {},
   "source": [
    "As seen on the histogram of the burnt area, most of the values are area=0, this means that no fire occured. To have a better understanding lets explore the data of only the burnt area. "
   ]
  },
  {
   "cell_type": "code",
   "execution_count": 7,
   "metadata": {},
   "outputs": [
    {
     "name": "stderr",
     "output_type": "stream",
     "text": [
      "Using month, day as id variables\n"
     ]
    },
    {
     "data": {
      "image/png": "[encoded data removed]",
      "text/plain": [
       "plot without title"
      ]
     },
     "metadata": {},
     "output_type": "display_data"
    }
   ],
   "source": [
    "burnt_area <- fires[(fires[,13]>0),]\n",
    "stat1<- melt(as.data.frame(burnt_area[,c(-1,-10)]))\n",
    "ggplot(stat1,aes(x = variable,y = value)) +\n",
    "facet_wrap(~variable, scales=\"free\") +\n",
    "geom_boxplot() "
   ]
  },
  {
   "cell_type": "markdown",
   "metadata": {},
   "source": [
    "There is no significant change of the variables, so we can not conclude anything from it."
   ]
  },
  {
   "cell_type": "code",
   "execution_count": 8,
   "metadata": {},
   "outputs": [
    {
     "data": {
      "image/png": "[encoded data removed]",
      "text/plain": [
       "Plot with title \"rain\""
      ]
     },
     "metadata": {},
     "output_type": "display_data"
    }
   ],
   "source": [
    "fires$month <- as.numeric(as.factor(fires$month))\n",
    "fires$day <- as.numeric(as.factor(fires$day))\n",
    "par(mfrow=c(2,6),mar=c(3.90, 4.25, 2.5, 0.5))\n",
    "for (item in 1:(dim(fires)[2]-1)){\n",
    "  variable = fires[,item]\n",
    "  d <- density(variable)\n",
    "  plot(d, main = names(fires[item]),xlab=\"\")}"
   ]
  },
  {
   "cell_type": "markdown",
   "metadata": {},
   "source": [
    "We plot the density of each variable, which rain has the least amount of variance so it won't make a huge difference n our models."
   ]
  },
  {
   "cell_type": "code",
   "execution_count": 9,
   "metadata": {},
   "outputs": [],
   "source": [
    "#please note: the following code was obtained from:  http://stackoverflow.com/questions/31709982/how-to-plot-in-r-a-correlogram-on-top-of-a-correlation-matrix\n",
    "#The code was modified to satisfy the needs but the idea comes from r2evans as metioned in the link\n",
    "\n",
    "colorRange <- c('#69091e', '#e37f65', 'white', '#aed2e6', '#042f60')\n",
    "## colorRamp() returns a function which takes as an argument a number\n",
    "## on [0,1] and returns a color in the gradient in colorRange\n",
    "myColorRampFunc <- colorRamp(colorRange)\n",
    "\n",
    "panel.cor <- function(w, z, ...) {\n",
    "    correlation <- cor(w, z)\n",
    "\n",
    "    ## because the func needs [0,1] and cor gives [-1,1], we need to shift and scale it\n",
    "    col <- rgb(myColorRampFunc((1 + correlation) / 2 ) / 255 )\n",
    "\n",
    "    ## square it to avoid visual bias due to \"area vs diameter\"\n",
    "    radius <- sqrt(abs(correlation))\n",
    "    radians <- seq(0, 2*pi, len = 50) # 50 is arbitrary\n",
    "    x <- radius * cos(radians)\n",
    "    y <- radius * sin(radians)\n",
    "    ## make them full loops\n",
    "    x <- c(x, tail(x,n=1))\n",
    "    y <- c(y, tail(y,n=1))\n",
    "\n",
    "    ## trick: \"don't create a new plot\" thing by following the\n",
    "    ## advice here: http://www.r-bloggers.com/multiple-y-axis-in-a-r-plot/\n",
    "    ## This allows\n",
    "    par(new=TRUE)\n",
    "    plot(0, type='n', xlim=c(-1,1), ylim=c(-1,1), axes=FALSE, asp=1)\n",
    "    polygon(x, y, border=col, col=col)\n",
    "}\n"
   ]
  },
  {
   "cell_type": "code",
   "execution_count": 10,
   "metadata": {},
   "outputs": [
    {
     "data": {
      "image/png": "[encoded data removed]",
      "text/plain": [
       "plot without title"
      ]
     },
     "metadata": {},
     "output_type": "display_data"
    }
   ],
   "source": [
    "pairs(fires[,c(1,2,3,4,5,6,7,8,9,10,11,12,13)], pch = 19,panel=panel.smooth,lower.panel=panel.cor)"
   ]
  },
  {
   "cell_type": "markdown",
   "metadata": {},
   "source": [
    "Blue circles will show a positive correlation while orange circles will show a negative correlation, the bigger correlation between variables means the bigger the circle. \n",
    "\n",
    "Temperatue stands out among most of the variables. It has a negative strong correlation with RH and positive strong correlation with ISI, DC, DMC and FFMC\n",
    "\n",
    "There is no actual correlation between the area burnt and the other variables."
   ]
  },
  {
   "cell_type": "markdown",
   "metadata": {},
   "source": [
    "There are two variables in the dataset that are categorical which are month and day. The month could give us an indicator if the fires have a higher occurance in summer since it's usually hotter and dryer. In the other hand, many of the bushfires around the world have a human factor in it so weekends could have a higer chance of occuring a bushfire. Let's take a look:"
   ]
  },
  {
   "cell_type": "code",
   "execution_count": 11,
   "metadata": {},
   "outputs": [
    {
     "name": "stderr",
     "output_type": "stream",
     "text": [
      "Warning message:\n",
      "\"Use of `burnt_area$month` is discouraged. Use `month` instead.\"Warning message:\n",
      "\"Use of `burnt_area$area` is discouraged. Use `area` instead.\""
     ]
    },
    {
     "data": {
      "image/png": "[encoded data removed]",
      "text/plain": [
       "plot without title"
      ]
     },
     "metadata": {},
     "output_type": "display_data"
    }
   ],
   "source": [
    "ggplot(burnt_area,aes( burnt_area$month, burnt_area$area)) + geom_boxplot()"
   ]
  },
  {
   "cell_type": "markdown",
   "metadata": {},
   "source": [
    "There is no particular patter we can see from the months, only thing is that in Sept and Aug 2 big fires occured. Can be an outlier or potentialy fires that occured. "
   ]
  },
  {
   "cell_type": "code",
   "execution_count": 12,
   "metadata": {},
   "outputs": [
    {
     "name": "stderr",
     "output_type": "stream",
     "text": [
      "Warning message:\n",
      "\"Use of `burnt_area$day` is discouraged. Use `day` instead.\"Warning message:\n",
      "\"Use of `burnt_area$area` is discouraged. Use `area` instead.\""
     ]
    },
    {
     "data": {
      "image/png": "[encoded data removed]",
      "text/plain": [
       "plot without title"
      ]
     },
     "metadata": {},
     "output_type": "display_data"
    }
   ],
   "source": [
    "ggplot(burnt_area,aes( burnt_area$day, burnt_area$area)) + geom_boxplot()"
   ]
  },
  {
   "cell_type": "markdown",
   "metadata": {},
   "source": [
    "For the day there's no obvious relation between the day of the week vs area burnt so we can no conclude anything. "
   ]
  },
  {
   "cell_type": "markdown",
   "metadata": {},
   "source": [
    "## 3. Model Development<a class=\"anchor\" id=\"sec_3\"></a>"
   ]
  },
  {
   "cell_type": "markdown",
   "metadata": {},
   "source": [
    "The first model that's going to be developed is the multivariate linea regression which first the data will need to be split into training and testing:"
   ]
  },
  {
   "cell_type": "code",
   "execution_count": 13,
   "metadata": {},
   "outputs": [],
   "source": [
    "library (caTools)\n",
    "set.seed(123)\n",
    "sample = sample.split(fires,SplitRatio = 0.80) \n",
    "fire_train =subset(fires,sample ==TRUE) \n",
    "fire_test=subset(fires, sample==FALSE)"
   ]
  },
  {
   "cell_type": "code",
   "execution_count": 14,
   "metadata": {},
   "outputs": [
    {
     "data": {
      "text/plain": [
       "\n",
       "Call:\n",
       "lm(formula = area ~ ., data = fire_train)\n",
       "\n",
       "Residuals:\n",
       "   Min     1Q Median     3Q    Max \n",
       "-35.22 -13.61  -7.65  -0.44 718.31 \n",
       "\n",
       "Coefficients:\n",
       "             Estimate Std. Error t value Pr(>|t|)  \n",
       "(Intercept)  4.955609  51.369392   0.096   0.9232  \n",
       "X            2.269211   1.222439   1.856   0.0642 .\n",
       "Y           -2.256692   2.334095  -0.967   0.3342  \n",
       "month        0.220151   0.646994   0.340   0.7338  \n",
       "day          0.499430   1.241792   0.402   0.6878  \n",
       "FFMC        -0.036370   0.520049  -0.070   0.9443  \n",
       "DMC          0.102152   0.059564   1.715   0.0872 .\n",
       "DC          -0.009667   0.015588  -0.620   0.5355  \n",
       "ISI         -0.504455   0.618389  -0.816   0.4151  \n",
       "temp         0.311540   0.679488   0.458   0.6469  \n",
       "RH          -0.128397   0.208382  -0.616   0.5381  \n",
       "wind         0.991194   1.432835   0.692   0.4895  \n",
       "rain        -2.632874   7.248154  -0.363   0.7166  \n",
       "---\n",
       "Signif. codes:  0 '***' 0.001 '**' 0.01 '*' 0.05 '.' 0.1 ' ' 1\n",
       "\n",
       "Residual standard error: 46.85 on 385 degrees of freedom\n",
       "Multiple R-squared:  0.02294,\tAdjusted R-squared:  -0.007509 \n",
       "F-statistic: 0.7534 on 12 and 385 DF,  p-value: 0.6985\n"
      ]
     },
     "metadata": {},
     "output_type": "display_data"
    }
   ],
   "source": [
    "lfire = lm(area~., data  = fire_train)\n",
    "summary (lfire)"
   ]
  },
  {
   "cell_type": "markdown",
   "metadata": {},
   "source": [
    "From the data above we can notice that all of the variables are not significant to try to explain the burnt area of the forest. But let's take a deeper look on the model. "
   ]
  },
  {
   "cell_type": "code",
   "execution_count": 15,
   "metadata": {},
   "outputs": [
    {
     "data": {
      "text/html": [
       "<table>\n",
       "<thead><tr><th></th><th scope=col>Estimate</th><th scope=col>Std. Error</th><th scope=col>t value</th><th scope=col>Pr(&gt;|t|)</th></tr></thead>\n",
       "<tbody>\n",
       "\t<tr><th scope=row>(Intercept)</th><td> 4.955608752</td><td>51.36939203 </td><td> 0.09647007 </td><td>0.92319744  </td></tr>\n",
       "\t<tr><th scope=row>X</th><td> 2.269210900</td><td> 1.22243894 </td><td> 1.85629795 </td><td>0.06417488  </td></tr>\n",
       "\t<tr><th scope=row>Y</th><td>-2.256692063</td><td> 2.33409465 </td><td>-0.96683828 </td><td>0.33423182  </td></tr>\n",
       "\t<tr><th scope=row>month</th><td> 0.220151470</td><td> 0.64699418 </td><td> 0.34026809 </td><td>0.73384023  </td></tr>\n",
       "\t<tr><th scope=row>day</th><td> 0.499429848</td><td> 1.24179160 </td><td> 0.40218491 </td><td>0.68777113  </td></tr>\n",
       "\t<tr><th scope=row>FFMC</th><td>-0.036370179</td><td> 0.52004877 </td><td>-0.06993609 </td><td>0.94428084  </td></tr>\n",
       "\t<tr><th scope=row>DMC</th><td> 0.102152131</td><td> 0.05956401 </td><td> 1.71499768 </td><td>0.08715031  </td></tr>\n",
       "\t<tr><th scope=row>DC</th><td>-0.009667075</td><td> 0.01558841 </td><td>-0.62014496 </td><td>0.53552923  </td></tr>\n",
       "\t<tr><th scope=row>ISI</th><td>-0.504455149</td><td> 0.61838940 </td><td>-0.81575646 </td><td>0.41514384  </td></tr>\n",
       "\t<tr><th scope=row>temp</th><td> 0.311539575</td><td> 0.67948809 </td><td> 0.45849159 </td><td>0.64685800  </td></tr>\n",
       "\t<tr><th scope=row>RH</th><td>-0.128397484</td><td> 0.20838152 </td><td>-0.61616540 </td><td>0.53814948  </td></tr>\n",
       "\t<tr><th scope=row>wind</th><td> 0.991194318</td><td> 1.43283475 </td><td> 0.69177155 </td><td>0.48949776  </td></tr>\n",
       "\t<tr><th scope=row>rain</th><td>-2.632874300</td><td> 7.24815353 </td><td>-0.36324759 </td><td>0.71661930  </td></tr>\n",
       "</tbody>\n",
       "</table>\n"
      ],
      "text/latex": [
       "\\begin{tabular}{r|llll}\n",
       "  & Estimate & Std. Error & t value & Pr(>\\textbar{}t\\textbar{})\\\\\n",
       "\\hline\n",
       "\t(Intercept) &  4.955608752 & 51.36939203  &  0.09647007  & 0.92319744  \\\\\n",
       "\tX &  2.269210900 &  1.22243894  &  1.85629795  & 0.06417488  \\\\\n",
       "\tY & -2.256692063 &  2.33409465  & -0.96683828  & 0.33423182  \\\\\n",
       "\tmonth &  0.220151470 &  0.64699418  &  0.34026809  & 0.73384023  \\\\\n",
       "\tday &  0.499429848 &  1.24179160  &  0.40218491  & 0.68777113  \\\\\n",
       "\tFFMC & -0.036370179 &  0.52004877  & -0.06993609  & 0.94428084  \\\\\n",
       "\tDMC &  0.102152131 &  0.05956401  &  1.71499768  & 0.08715031  \\\\\n",
       "\tDC & -0.009667075 &  0.01558841  & -0.62014496  & 0.53552923  \\\\\n",
       "\tISI & -0.504455149 &  0.61838940  & -0.81575646  & 0.41514384  \\\\\n",
       "\ttemp &  0.311539575 &  0.67948809  &  0.45849159  & 0.64685800  \\\\\n",
       "\tRH & -0.128397484 &  0.20838152  & -0.61616540  & 0.53814948  \\\\\n",
       "\twind &  0.991194318 &  1.43283475  &  0.69177155  & 0.48949776  \\\\\n",
       "\train & -2.632874300 &  7.24815353  & -0.36324759  & 0.71661930  \\\\\n",
       "\\end{tabular}\n"
      ],
      "text/markdown": [
       "\n",
       "| <!--/--> | Estimate | Std. Error | t value | Pr(>|t|) |\n",
       "|---|---|---|---|---|\n",
       "| (Intercept) |  4.955608752 | 51.36939203  |  0.09647007  | 0.92319744   |\n",
       "| X |  2.269210900 |  1.22243894  |  1.85629795  | 0.06417488   |\n",
       "| Y | -2.256692063 |  2.33409465  | -0.96683828  | 0.33423182   |\n",
       "| month |  0.220151470 |  0.64699418  |  0.34026809  | 0.73384023   |\n",
       "| day |  0.499429848 |  1.24179160  |  0.40218491  | 0.68777113   |\n",
       "| FFMC | -0.036370179 |  0.52004877  | -0.06993609  | 0.94428084   |\n",
       "| DMC |  0.102152131 |  0.05956401  |  1.71499768  | 0.08715031   |\n",
       "| DC | -0.009667075 |  0.01558841  | -0.62014496  | 0.53552923   |\n",
       "| ISI | -0.504455149 |  0.61838940  | -0.81575646  | 0.41514384   |\n",
       "| temp |  0.311539575 |  0.67948809  |  0.45849159  | 0.64685800   |\n",
       "| RH | -0.128397484 |  0.20838152  | -0.61616540  | 0.53814948   |\n",
       "| wind |  0.991194318 |  1.43283475  |  0.69177155  | 0.48949776   |\n",
       "| rain | -2.632874300 |  7.24815353  | -0.36324759  | 0.71661930   |\n",
       "\n"
      ],
      "text/plain": [
       "            Estimate     Std. Error  t value     Pr(>|t|)  \n",
       "(Intercept)  4.955608752 51.36939203  0.09647007 0.92319744\n",
       "X            2.269210900  1.22243894  1.85629795 0.06417488\n",
       "Y           -2.256692063  2.33409465 -0.96683828 0.33423182\n",
       "month        0.220151470  0.64699418  0.34026809 0.73384023\n",
       "day          0.499429848  1.24179160  0.40218491 0.68777113\n",
       "FFMC        -0.036370179  0.52004877 -0.06993609 0.94428084\n",
       "DMC          0.102152131  0.05956401  1.71499768 0.08715031\n",
       "DC          -0.009667075  0.01558841 -0.62014496 0.53552923\n",
       "ISI         -0.504455149  0.61838940 -0.81575646 0.41514384\n",
       "temp         0.311539575  0.67948809  0.45849159 0.64685800\n",
       "RH          -0.128397484  0.20838152 -0.61616540 0.53814948\n",
       "wind         0.991194318  1.43283475  0.69177155 0.48949776\n",
       "rain        -2.632874300  7.24815353 -0.36324759 0.71661930"
      ]
     },
     "metadata": {},
     "output_type": "display_data"
    }
   ],
   "source": [
    "summary(lfire)$coefficient"
   ]
  },
  {
   "cell_type": "code",
   "execution_count": 16,
   "metadata": {},
   "outputs": [
    {
     "data": {
      "text/html": [
       "<table>\n",
       "<thead><tr><th></th><th scope=col>X</th><th scope=col>Y</th><th scope=col>FFMC</th><th scope=col>DMC</th><th scope=col>DC</th><th scope=col>ISI</th><th scope=col>temp</th><th scope=col>RH</th><th scope=col>wind</th><th scope=col>rain</th><th scope=col>area</th></tr></thead>\n",
       "<tbody>\n",
       "\t<tr><th scope=row>X</th><td> 1.000000000</td><td> 0.539548171</td><td>-0.02103927 </td><td>-0.048384178</td><td>-0.08591612 </td><td> 0.006209941</td><td>-0.05125826 </td><td> 0.08522319 </td><td> 0.01879782 </td><td> 0.065387168</td><td> 0.063385299</td></tr>\n",
       "\t<tr><th scope=row>Y</th><td> 0.539548171</td><td> 1.000000000</td><td>-0.04630755 </td><td> 0.007781561</td><td>-0.10117777 </td><td>-0.024487992</td><td>-0.02410308 </td><td> 0.06222073 </td><td>-0.02034085 </td><td> 0.033234103</td><td> 0.044873225</td></tr>\n",
       "\t<tr><th scope=row>FFMC</th><td>-0.021039272</td><td>-0.046307546</td><td> 1.00000000 </td><td> 0.382618800</td><td> 0.33051180 </td><td> 0.531804931</td><td> 0.43153226 </td><td>-0.30099542 </td><td>-0.02848481 </td><td> 0.056701533</td><td> 0.040122004</td></tr>\n",
       "\t<tr><th scope=row>DMC</th><td>-0.048384178</td><td> 0.007781561</td><td> 0.38261880 </td><td> 1.000000000</td><td> 0.68219161 </td><td> 0.305127835</td><td> 0.46959384 </td><td> 0.07379494 </td><td>-0.10534225 </td><td> 0.074789982</td><td> 0.072994296</td></tr>\n",
       "\t<tr><th scope=row>DC</th><td>-0.085916123</td><td>-0.101177767</td><td> 0.33051180 </td><td> 0.682191612</td><td> 1.00000000 </td><td> 0.229154169</td><td> 0.49620805 </td><td>-0.03919165 </td><td>-0.20346569 </td><td> 0.035860862</td><td> 0.049383225</td></tr>\n",
       "\t<tr><th scope=row>ISI</th><td> 0.006209941</td><td>-0.024487992</td><td> 0.53180493 </td><td> 0.305127835</td><td> 0.22915417 </td><td> 1.000000000</td><td> 0.39428710 </td><td>-0.13251718 </td><td> 0.10682589 </td><td> 0.067668190</td><td> 0.008257688</td></tr>\n",
       "\t<tr><th scope=row>temp</th><td>-0.051258262</td><td>-0.024103084</td><td> 0.43153226 </td><td> 0.469593844</td><td> 0.49620805 </td><td> 0.394287104</td><td> 1.00000000 </td><td>-0.52739034 </td><td>-0.22711622 </td><td> 0.069490547</td><td> 0.097844107</td></tr>\n",
       "\t<tr><th scope=row>RH</th><td> 0.085223194</td><td> 0.062220731</td><td>-0.30099542 </td><td> 0.073794941</td><td>-0.03919165 </td><td>-0.132517177</td><td>-0.52739034 </td><td> 1.00000000 </td><td> 0.06941007 </td><td> 0.099751223</td><td>-0.075518563</td></tr>\n",
       "\t<tr><th scope=row>wind</th><td> 0.018797818</td><td>-0.020340852</td><td>-0.02848481 </td><td>-0.105342253</td><td>-0.20346569 </td><td> 0.106825888</td><td>-0.22711622 </td><td> 0.06941007 </td><td> 1.00000000 </td><td> 0.061118880</td><td> 0.012317277</td></tr>\n",
       "\t<tr><th scope=row>rain</th><td> 0.065387168</td><td> 0.033234103</td><td> 0.05670153 </td><td> 0.074789982</td><td> 0.03586086 </td><td> 0.067668190</td><td> 0.06949055 </td><td> 0.09975122 </td><td> 0.06111888 </td><td> 1.000000000</td><td>-0.007365729</td></tr>\n",
       "\t<tr><th scope=row>area</th><td> 0.063385299</td><td> 0.044873225</td><td> 0.04012200 </td><td> 0.072994296</td><td> 0.04938323 </td><td> 0.008257688</td><td> 0.09784411 </td><td>-0.07551856 </td><td> 0.01231728 </td><td>-0.007365729</td><td> 1.000000000</td></tr>\n",
       "</tbody>\n",
       "</table>\n"
      ],
      "text/latex": [
       "\\begin{tabular}{r|lllllllllll}\n",
       "  & X & Y & FFMC & DMC & DC & ISI & temp & RH & wind & rain & area\\\\\n",
       "\\hline\n",
       "\tX &  1.000000000 &  0.539548171 & -0.02103927  & -0.048384178 & -0.08591612  &  0.006209941 & -0.05125826  &  0.08522319  &  0.01879782  &  0.065387168 &  0.063385299\\\\\n",
       "\tY &  0.539548171 &  1.000000000 & -0.04630755  &  0.007781561 & -0.10117777  & -0.024487992 & -0.02410308  &  0.06222073  & -0.02034085  &  0.033234103 &  0.044873225\\\\\n",
       "\tFFMC & -0.021039272 & -0.046307546 &  1.00000000  &  0.382618800 &  0.33051180  &  0.531804931 &  0.43153226  & -0.30099542  & -0.02848481  &  0.056701533 &  0.040122004\\\\\n",
       "\tDMC & -0.048384178 &  0.007781561 &  0.38261880  &  1.000000000 &  0.68219161  &  0.305127835 &  0.46959384  &  0.07379494  & -0.10534225  &  0.074789982 &  0.072994296\\\\\n",
       "\tDC & -0.085916123 & -0.101177767 &  0.33051180  &  0.682191612 &  1.00000000  &  0.229154169 &  0.49620805  & -0.03919165  & -0.20346569  &  0.035860862 &  0.049383225\\\\\n",
       "\tISI &  0.006209941 & -0.024487992 &  0.53180493  &  0.305127835 &  0.22915417  &  1.000000000 &  0.39428710  & -0.13251718  &  0.10682589  &  0.067668190 &  0.008257688\\\\\n",
       "\ttemp & -0.051258262 & -0.024103084 &  0.43153226  &  0.469593844 &  0.49620805  &  0.394287104 &  1.00000000  & -0.52739034  & -0.22711622  &  0.069490547 &  0.097844107\\\\\n",
       "\tRH &  0.085223194 &  0.062220731 & -0.30099542  &  0.073794941 & -0.03919165  & -0.132517177 & -0.52739034  &  1.00000000  &  0.06941007  &  0.099751223 & -0.075518563\\\\\n",
       "\twind &  0.018797818 & -0.020340852 & -0.02848481  & -0.105342253 & -0.20346569  &  0.106825888 & -0.22711622  &  0.06941007  &  1.00000000  &  0.061118880 &  0.012317277\\\\\n",
       "\train &  0.065387168 &  0.033234103 &  0.05670153  &  0.074789982 &  0.03586086  &  0.067668190 &  0.06949055  &  0.09975122  &  0.06111888  &  1.000000000 & -0.007365729\\\\\n",
       "\tarea &  0.063385299 &  0.044873225 &  0.04012200  &  0.072994296 &  0.04938323  &  0.008257688 &  0.09784411  & -0.07551856  &  0.01231728  & -0.007365729 &  1.000000000\\\\\n",
       "\\end{tabular}\n"
      ],
      "text/markdown": [
       "\n",
       "| <!--/--> | X | Y | FFMC | DMC | DC | ISI | temp | RH | wind | rain | area |\n",
       "|---|---|---|---|---|---|---|---|---|---|---|---|\n",
       "| X |  1.000000000 |  0.539548171 | -0.02103927  | -0.048384178 | -0.08591612  |  0.006209941 | -0.05125826  |  0.08522319  |  0.01879782  |  0.065387168 |  0.063385299 |\n",
       "| Y |  0.539548171 |  1.000000000 | -0.04630755  |  0.007781561 | -0.10117777  | -0.024487992 | -0.02410308  |  0.06222073  | -0.02034085  |  0.033234103 |  0.044873225 |\n",
       "| FFMC | -0.021039272 | -0.046307546 |  1.00000000  |  0.382618800 |  0.33051180  |  0.531804931 |  0.43153226  | -0.30099542  | -0.02848481  |  0.056701533 |  0.040122004 |\n",
       "| DMC | -0.048384178 |  0.007781561 |  0.38261880  |  1.000000000 |  0.68219161  |  0.305127835 |  0.46959384  |  0.07379494  | -0.10534225  |  0.074789982 |  0.072994296 |\n",
       "| DC | -0.085916123 | -0.101177767 |  0.33051180  |  0.682191612 |  1.00000000  |  0.229154169 |  0.49620805  | -0.03919165  | -0.20346569  |  0.035860862 |  0.049383225 |\n",
       "| ISI |  0.006209941 | -0.024487992 |  0.53180493  |  0.305127835 |  0.22915417  |  1.000000000 |  0.39428710  | -0.13251718  |  0.10682589  |  0.067668190 |  0.008257688 |\n",
       "| temp | -0.051258262 | -0.024103084 |  0.43153226  |  0.469593844 |  0.49620805  |  0.394287104 |  1.00000000  | -0.52739034  | -0.22711622  |  0.069490547 |  0.097844107 |\n",
       "| RH |  0.085223194 |  0.062220731 | -0.30099542  |  0.073794941 | -0.03919165  | -0.132517177 | -0.52739034  |  1.00000000  |  0.06941007  |  0.099751223 | -0.075518563 |\n",
       "| wind |  0.018797818 | -0.020340852 | -0.02848481  | -0.105342253 | -0.20346569  |  0.106825888 | -0.22711622  |  0.06941007  |  1.00000000  |  0.061118880 |  0.012317277 |\n",
       "| rain |  0.065387168 |  0.033234103 |  0.05670153  |  0.074789982 |  0.03586086  |  0.067668190 |  0.06949055  |  0.09975122  |  0.06111888  |  1.000000000 | -0.007365729 |\n",
       "| area |  0.063385299 |  0.044873225 |  0.04012200  |  0.072994296 |  0.04938323  |  0.008257688 |  0.09784411  | -0.07551856  |  0.01231728  | -0.007365729 |  1.000000000 |\n",
       "\n"
      ],
      "text/plain": [
       "     X            Y            FFMC        DMC          DC         \n",
       "X     1.000000000  0.539548171 -0.02103927 -0.048384178 -0.08591612\n",
       "Y     0.539548171  1.000000000 -0.04630755  0.007781561 -0.10117777\n",
       "FFMC -0.021039272 -0.046307546  1.00000000  0.382618800  0.33051180\n",
       "DMC  -0.048384178  0.007781561  0.38261880  1.000000000  0.68219161\n",
       "DC   -0.085916123 -0.101177767  0.33051180  0.682191612  1.00000000\n",
       "ISI   0.006209941 -0.024487992  0.53180493  0.305127835  0.22915417\n",
       "temp -0.051258262 -0.024103084  0.43153226  0.469593844  0.49620805\n",
       "RH    0.085223194  0.062220731 -0.30099542  0.073794941 -0.03919165\n",
       "wind  0.018797818 -0.020340852 -0.02848481 -0.105342253 -0.20346569\n",
       "rain  0.065387168  0.033234103  0.05670153  0.074789982  0.03586086\n",
       "area  0.063385299  0.044873225  0.04012200  0.072994296  0.04938323\n",
       "     ISI          temp        RH          wind        rain         area        \n",
       "X     0.006209941 -0.05125826  0.08522319  0.01879782  0.065387168  0.063385299\n",
       "Y    -0.024487992 -0.02410308  0.06222073 -0.02034085  0.033234103  0.044873225\n",
       "FFMC  0.531804931  0.43153226 -0.30099542 -0.02848481  0.056701533  0.040122004\n",
       "DMC   0.305127835  0.46959384  0.07379494 -0.10534225  0.074789982  0.072994296\n",
       "DC    0.229154169  0.49620805 -0.03919165 -0.20346569  0.035860862  0.049383225\n",
       "ISI   1.000000000  0.39428710 -0.13251718  0.10682589  0.067668190  0.008257688\n",
       "temp  0.394287104  1.00000000 -0.52739034 -0.22711622  0.069490547  0.097844107\n",
       "RH   -0.132517177 -0.52739034  1.00000000  0.06941007  0.099751223 -0.075518563\n",
       "wind  0.106825888 -0.22711622  0.06941007  1.00000000  0.061118880  0.012317277\n",
       "rain  0.067668190  0.06949055  0.09975122  0.06111888  1.000000000 -0.007365729\n",
       "area  0.008257688  0.09784411 -0.07551856  0.01231728 -0.007365729  1.000000000"
      ]
     },
     "metadata": {},
     "output_type": "display_data"
    }
   ],
   "source": [
    "cor(fires[,c(1,2,5,6,7,8,9,10,11,12,13)])"
   ]
  },
  {
   "cell_type": "markdown",
   "metadata": {},
   "source": [
    "For the correlation between variables we are able to see high correlations between DMC and DC. Temperature also seems to have a high correlations with other variables. However, with the area we don't see any high correlations to try to explain the fires. "
   ]
  },
  {
   "cell_type": "code",
   "execution_count": 17,
   "metadata": {},
   "outputs": [
    {
     "data": {
      "text/html": [
       "<table>\n",
       "<thead><tr><th></th><th scope=col>Area_Burned</th><th scope=col>prediction</th><th scope=col>residual</th></tr></thead>\n",
       "<tbody>\n",
       "\t<tr><th scope=row>5</th><td>0         </td><td> 2.1142277</td><td> 2.1142277</td></tr>\n",
       "\t<tr><th scope=row>8</th><td>0         </td><td> 4.8869303</td><td> 4.8869303</td></tr>\n",
       "\t<tr><th scope=row>11</th><td>0         </td><td>15.1205599</td><td>15.1205599</td></tr>\n",
       "\t<tr><th scope=row>18</th><td>0         </td><td>11.5997682</td><td>11.5997682</td></tr>\n",
       "\t<tr><th scope=row>21</th><td>0         </td><td>18.1164150</td><td>18.1164150</td></tr>\n",
       "\t<tr><th scope=row>24</th><td>0         </td><td>19.7801396</td><td>19.7801396</td></tr>\n",
       "\t<tr><th scope=row>31</th><td>0         </td><td>13.8919965</td><td>13.8919965</td></tr>\n",
       "\t<tr><th scope=row>34</th><td>0         </td><td>14.0243290</td><td>14.0243290</td></tr>\n",
       "\t<tr><th scope=row>37</th><td>0         </td><td>15.8312450</td><td>15.8312450</td></tr>\n",
       "\t<tr><th scope=row>44</th><td>0         </td><td> 7.0552085</td><td> 7.0552085</td></tr>\n",
       "\t<tr><th scope=row>47</th><td>0         </td><td> 5.0108582</td><td> 5.0108582</td></tr>\n",
       "\t<tr><th scope=row>50</th><td>0         </td><td> 9.6559292</td><td> 9.6559292</td></tr>\n",
       "\t<tr><th scope=row>57</th><td>0         </td><td> 9.9364726</td><td> 9.9364726</td></tr>\n",
       "\t<tr><th scope=row>60</th><td>0         </td><td>-0.3541237</td><td>-0.3541237</td></tr>\n",
       "\t<tr><th scope=row>63</th><td>0         </td><td>10.0526500</td><td>10.0526500</td></tr>\n",
       "\t<tr><th scope=row>70</th><td>0         </td><td> 6.2673801</td><td> 6.2673801</td></tr>\n",
       "\t<tr><th scope=row>73</th><td>0         </td><td>12.2073670</td><td>12.2073670</td></tr>\n",
       "\t<tr><th scope=row>76</th><td>0         </td><td>-3.0465337</td><td>-3.0465337</td></tr>\n",
       "\t<tr><th scope=row>83</th><td>0         </td><td> 2.6389378</td><td> 2.6389378</td></tr>\n",
       "\t<tr><th scope=row>86</th><td>0         </td><td>12.6608594</td><td>12.6608594</td></tr>\n",
       "\t<tr><th scope=row>89</th><td>0         </td><td>14.9000981</td><td>14.9000981</td></tr>\n",
       "\t<tr><th scope=row>96</th><td>0         </td><td> 4.9621539</td><td> 4.9621539</td></tr>\n",
       "\t<tr><th scope=row>99</th><td>0         </td><td> 2.1393738</td><td> 2.1393738</td></tr>\n",
       "\t<tr><th scope=row>102</th><td>0         </td><td> 8.8745638</td><td> 8.8745638</td></tr>\n",
       "\t<tr><th scope=row>109</th><td>0         </td><td> 5.7982644</td><td> 5.7982644</td></tr>\n",
       "\t<tr><th scope=row>112</th><td>0         </td><td> 7.7805045</td><td> 7.7805045</td></tr>\n",
       "\t<tr><th scope=row>115</th><td>0         </td><td>13.3336073</td><td>13.3336073</td></tr>\n",
       "\t<tr><th scope=row>122</th><td>0         </td><td> 9.5821837</td><td> 9.5821837</td></tr>\n",
       "\t<tr><th scope=row>125</th><td>0         </td><td> 1.5288653</td><td> 1.5288653</td></tr>\n",
       "\t<tr><th scope=row>128</th><td>0         </td><td> 7.2523041</td><td> 7.2523041</td></tr>\n",
       "\t<tr><th scope=row>...</th><td>...</td><td>...</td><td>...</td></tr>\n",
       "\t<tr><th scope=row>388</th><td>  0.00      </td><td> 6.3729655  </td><td>   6.3729655</td></tr>\n",
       "\t<tr><th scope=row>395</th><td>  0.00      </td><td>-0.2789259  </td><td>  -0.2789259</td></tr>\n",
       "\t<tr><th scope=row>398</th><td>  3.63      </td><td>17.5300246  </td><td>  13.9000246</td></tr>\n",
       "\t<tr><th scope=row>401</th><td>  8.16      </td><td>19.6730165  </td><td>  11.5130165</td></tr>\n",
       "\t<tr><th scope=row>408</th><td>  0.00      </td><td> 3.3727267  </td><td>   3.3727267</td></tr>\n",
       "\t<tr><th scope=row>411</th><td>  0.00      </td><td>10.8585239  </td><td>  10.8585239</td></tr>\n",
       "\t<tr><th scope=row>414</th><td>  0.00      </td><td>28.1001680  </td><td>  28.1001680</td></tr>\n",
       "\t<tr><th scope=row>421</th><td>185.76      </td><td>23.1272028  </td><td>-162.6327972</td></tr>\n",
       "\t<tr><th scope=row>424</th><td>  0.72      </td><td> 4.2262733  </td><td>   3.5062733</td></tr>\n",
       "\t<tr><th scope=row>427</th><td>  0.00      </td><td>25.4303442  </td><td>  25.4303442</td></tr>\n",
       "\t<tr><th scope=row>434</th><td> 15.34      </td><td>14.3255386  </td><td>  -1.0144614</td></tr>\n",
       "\t<tr><th scope=row>437</th><td>  0.54      </td><td>23.3093986  </td><td>  22.7693986</td></tr>\n",
       "\t<tr><th scope=row>440</th><td>  0.33      </td><td> 1.0665615  </td><td>   0.7365615</td></tr>\n",
       "\t<tr><th scope=row>447</th><td>  0.00      </td><td>15.7700445  </td><td>  15.7700445</td></tr>\n",
       "\t<tr><th scope=row>450</th><td>  0.00      </td><td>22.7175557  </td><td>  22.7175557</td></tr>\n",
       "\t<tr><th scope=row>453</th><td>  0.00      </td><td>24.5442587  </td><td>  24.5442587</td></tr>\n",
       "\t<tr><th scope=row>460</th><td>  1.94      </td><td>30.1008480  </td><td>  28.1608480</td></tr>\n",
       "\t<tr><th scope=row>463</th><td>  3.71      </td><td>18.4867930  </td><td>  14.7767930</td></tr>\n",
       "\t<tr><th scope=row>466</th><td>  6.84      </td><td>-1.4703598  </td><td>  -8.3103598</td></tr>\n",
       "\t<tr><th scope=row>473</th><td>  1.94      </td><td>19.1900177  </td><td>  17.2500177</td></tr>\n",
       "\t<tr><th scope=row>476</th><td>  3.19      </td><td>10.0604817  </td><td>   6.8704817</td></tr>\n",
       "\t<tr><th scope=row>479</th><td>  2.21      </td><td>10.1653411  </td><td>   7.9553411</td></tr>\n",
       "\t<tr><th scope=row>486</th><td>  2.07      </td><td> 5.2897814  </td><td>   3.2197814</td></tr>\n",
       "\t<tr><th scope=row>489</th><td> 46.70      </td><td> 9.0934115  </td><td> -37.6065885</td></tr>\n",
       "\t<tr><th scope=row>492</th><td>  0.00      </td><td>18.8492043  </td><td>  18.8492043</td></tr>\n",
       "\t<tr><th scope=row>499</th><td> 40.54      </td><td>21.7387814  </td><td> -18.8012186</td></tr>\n",
       "\t<tr><th scope=row>502</th><td>  0.00      </td><td>15.4298055  </td><td>  15.4298055</td></tr>\n",
       "\t<tr><th scope=row>505</th><td> 49.59      </td><td>15.3878480  </td><td> -34.2021520</td></tr>\n",
       "\t<tr><th scope=row>512</th><td>  0.00      </td><td>14.2816284  </td><td>  14.2816284</td></tr>\n",
       "\t<tr><th scope=row>515</th><td> 11.16      </td><td>13.9405058  </td><td>   2.7805058</td></tr>\n",
       "</tbody>\n",
       "</table>\n"
      ],
      "text/latex": [
       "\\begin{tabular}{r|lll}\n",
       "  & Area\\_Burned & prediction & residual\\\\\n",
       "\\hline\n",
       "\t5 & 0          &  2.1142277 &  2.1142277\\\\\n",
       "\t8 & 0          &  4.8869303 &  4.8869303\\\\\n",
       "\t11 & 0          & 15.1205599 & 15.1205599\\\\\n",
       "\t18 & 0          & 11.5997682 & 11.5997682\\\\\n",
       "\t21 & 0          & 18.1164150 & 18.1164150\\\\\n",
       "\t24 & 0          & 19.7801396 & 19.7801396\\\\\n",
       "\t31 & 0          & 13.8919965 & 13.8919965\\\\\n",
       "\t34 & 0          & 14.0243290 & 14.0243290\\\\\n",
       "\t37 & 0          & 15.8312450 & 15.8312450\\\\\n",
       "\t44 & 0          &  7.0552085 &  7.0552085\\\\\n",
       "\t47 & 0          &  5.0108582 &  5.0108582\\\\\n",
       "\t50 & 0          &  9.6559292 &  9.6559292\\\\\n",
       "\t57 & 0          &  9.9364726 &  9.9364726\\\\\n",
       "\t60 & 0          & -0.3541237 & -0.3541237\\\\\n",
       "\t63 & 0          & 10.0526500 & 10.0526500\\\\\n",
       "\t70 & 0          &  6.2673801 &  6.2673801\\\\\n",
       "\t73 & 0          & 12.2073670 & 12.2073670\\\\\n",
       "\t76 & 0          & -3.0465337 & -3.0465337\\\\\n",
       "\t83 & 0          &  2.6389378 &  2.6389378\\\\\n",
       "\t86 & 0          & 12.6608594 & 12.6608594\\\\\n",
       "\t89 & 0          & 14.9000981 & 14.9000981\\\\\n",
       "\t96 & 0          &  4.9621539 &  4.9621539\\\\\n",
       "\t99 & 0          &  2.1393738 &  2.1393738\\\\\n",
       "\t102 & 0          &  8.8745638 &  8.8745638\\\\\n",
       "\t109 & 0          &  5.7982644 &  5.7982644\\\\\n",
       "\t112 & 0          &  7.7805045 &  7.7805045\\\\\n",
       "\t115 & 0          & 13.3336073 & 13.3336073\\\\\n",
       "\t122 & 0          &  9.5821837 &  9.5821837\\\\\n",
       "\t125 & 0          &  1.5288653 &  1.5288653\\\\\n",
       "\t128 & 0          &  7.2523041 &  7.2523041\\\\\n",
       "\t... & ... & ... & ...\\\\\n",
       "\t388 &   0.00       &  6.3729655   &    6.3729655\\\\\n",
       "\t395 &   0.00       & -0.2789259   &   -0.2789259\\\\\n",
       "\t398 &   3.63       & 17.5300246   &   13.9000246\\\\\n",
       "\t401 &   8.16       & 19.6730165   &   11.5130165\\\\\n",
       "\t408 &   0.00       &  3.3727267   &    3.3727267\\\\\n",
       "\t411 &   0.00       & 10.8585239   &   10.8585239\\\\\n",
       "\t414 &   0.00       & 28.1001680   &   28.1001680\\\\\n",
       "\t421 & 185.76       & 23.1272028   & -162.6327972\\\\\n",
       "\t424 &   0.72       &  4.2262733   &    3.5062733\\\\\n",
       "\t427 &   0.00       & 25.4303442   &   25.4303442\\\\\n",
       "\t434 &  15.34       & 14.3255386   &   -1.0144614\\\\\n",
       "\t437 &   0.54       & 23.3093986   &   22.7693986\\\\\n",
       "\t440 &   0.33       &  1.0665615   &    0.7365615\\\\\n",
       "\t447 &   0.00       & 15.7700445   &   15.7700445\\\\\n",
       "\t450 &   0.00       & 22.7175557   &   22.7175557\\\\\n",
       "\t453 &   0.00       & 24.5442587   &   24.5442587\\\\\n",
       "\t460 &   1.94       & 30.1008480   &   28.1608480\\\\\n",
       "\t463 &   3.71       & 18.4867930   &   14.7767930\\\\\n",
       "\t466 &   6.84       & -1.4703598   &   -8.3103598\\\\\n",
       "\t473 &   1.94       & 19.1900177   &   17.2500177\\\\\n",
       "\t476 &   3.19       & 10.0604817   &    6.8704817\\\\\n",
       "\t479 &   2.21       & 10.1653411   &    7.9553411\\\\\n",
       "\t486 &   2.07       &  5.2897814   &    3.2197814\\\\\n",
       "\t489 &  46.70       &  9.0934115   &  -37.6065885\\\\\n",
       "\t492 &   0.00       & 18.8492043   &   18.8492043\\\\\n",
       "\t499 &  40.54       & 21.7387814   &  -18.8012186\\\\\n",
       "\t502 &   0.00       & 15.4298055   &   15.4298055\\\\\n",
       "\t505 &  49.59       & 15.3878480   &  -34.2021520\\\\\n",
       "\t512 &   0.00       & 14.2816284   &   14.2816284\\\\\n",
       "\t515 &  11.16       & 13.9405058   &    2.7805058\\\\\n",
       "\\end{tabular}\n"
      ],
      "text/markdown": [
       "\n",
       "| <!--/--> | Area_Burned | prediction | residual |\n",
       "|---|---|---|---|\n",
       "| 5 | 0          |  2.1142277 |  2.1142277 |\n",
       "| 8 | 0          |  4.8869303 |  4.8869303 |\n",
       "| 11 | 0          | 15.1205599 | 15.1205599 |\n",
       "| 18 | 0          | 11.5997682 | 11.5997682 |\n",
       "| 21 | 0          | 18.1164150 | 18.1164150 |\n",
       "| 24 | 0          | 19.7801396 | 19.7801396 |\n",
       "| 31 | 0          | 13.8919965 | 13.8919965 |\n",
       "| 34 | 0          | 14.0243290 | 14.0243290 |\n",
       "| 37 | 0          | 15.8312450 | 15.8312450 |\n",
       "| 44 | 0          |  7.0552085 |  7.0552085 |\n",
       "| 47 | 0          |  5.0108582 |  5.0108582 |\n",
       "| 50 | 0          |  9.6559292 |  9.6559292 |\n",
       "| 57 | 0          |  9.9364726 |  9.9364726 |\n",
       "| 60 | 0          | -0.3541237 | -0.3541237 |\n",
       "| 63 | 0          | 10.0526500 | 10.0526500 |\n",
       "| 70 | 0          |  6.2673801 |  6.2673801 |\n",
       "| 73 | 0          | 12.2073670 | 12.2073670 |\n",
       "| 76 | 0          | -3.0465337 | -3.0465337 |\n",
       "| 83 | 0          |  2.6389378 |  2.6389378 |\n",
       "| 86 | 0          | 12.6608594 | 12.6608594 |\n",
       "| 89 | 0          | 14.9000981 | 14.9000981 |\n",
       "| 96 | 0          |  4.9621539 |  4.9621539 |\n",
       "| 99 | 0          |  2.1393738 |  2.1393738 |\n",
       "| 102 | 0          |  8.8745638 |  8.8745638 |\n",
       "| 109 | 0          |  5.7982644 |  5.7982644 |\n",
       "| 112 | 0          |  7.7805045 |  7.7805045 |\n",
       "| 115 | 0          | 13.3336073 | 13.3336073 |\n",
       "| 122 | 0          |  9.5821837 |  9.5821837 |\n",
       "| 125 | 0          |  1.5288653 |  1.5288653 |\n",
       "| 128 | 0          |  7.2523041 |  7.2523041 |\n",
       "| ... | ... | ... | ... |\n",
       "| 388 |   0.00       |  6.3729655   |    6.3729655 |\n",
       "| 395 |   0.00       | -0.2789259   |   -0.2789259 |\n",
       "| 398 |   3.63       | 17.5300246   |   13.9000246 |\n",
       "| 401 |   8.16       | 19.6730165   |   11.5130165 |\n",
       "| 408 |   0.00       |  3.3727267   |    3.3727267 |\n",
       "| 411 |   0.00       | 10.8585239   |   10.8585239 |\n",
       "| 414 |   0.00       | 28.1001680   |   28.1001680 |\n",
       "| 421 | 185.76       | 23.1272028   | -162.6327972 |\n",
       "| 424 |   0.72       |  4.2262733   |    3.5062733 |\n",
       "| 427 |   0.00       | 25.4303442   |   25.4303442 |\n",
       "| 434 |  15.34       | 14.3255386   |   -1.0144614 |\n",
       "| 437 |   0.54       | 23.3093986   |   22.7693986 |\n",
       "| 440 |   0.33       |  1.0665615   |    0.7365615 |\n",
       "| 447 |   0.00       | 15.7700445   |   15.7700445 |\n",
       "| 450 |   0.00       | 22.7175557   |   22.7175557 |\n",
       "| 453 |   0.00       | 24.5442587   |   24.5442587 |\n",
       "| 460 |   1.94       | 30.1008480   |   28.1608480 |\n",
       "| 463 |   3.71       | 18.4867930   |   14.7767930 |\n",
       "| 466 |   6.84       | -1.4703598   |   -8.3103598 |\n",
       "| 473 |   1.94       | 19.1900177   |   17.2500177 |\n",
       "| 476 |   3.19       | 10.0604817   |    6.8704817 |\n",
       "| 479 |   2.21       | 10.1653411   |    7.9553411 |\n",
       "| 486 |   2.07       |  5.2897814   |    3.2197814 |\n",
       "| 489 |  46.70       |  9.0934115   |  -37.6065885 |\n",
       "| 492 |   0.00       | 18.8492043   |   18.8492043 |\n",
       "| 499 |  40.54       | 21.7387814   |  -18.8012186 |\n",
       "| 502 |   0.00       | 15.4298055   |   15.4298055 |\n",
       "| 505 |  49.59       | 15.3878480   |  -34.2021520 |\n",
       "| 512 |   0.00       | 14.2816284   |   14.2816284 |\n",
       "| 515 |  11.16       | 13.9405058   |    2.7805058 |\n",
       "\n"
      ],
      "text/plain": [
       "    Area_Burned prediction residual    \n",
       "5   0            2.1142277  2.1142277  \n",
       "8   0            4.8869303  4.8869303  \n",
       "11  0           15.1205599 15.1205599  \n",
       "18  0           11.5997682 11.5997682  \n",
       "21  0           18.1164150 18.1164150  \n",
       "24  0           19.7801396 19.7801396  \n",
       "31  0           13.8919965 13.8919965  \n",
       "34  0           14.0243290 14.0243290  \n",
       "37  0           15.8312450 15.8312450  \n",
       "44  0            7.0552085  7.0552085  \n",
       "47  0            5.0108582  5.0108582  \n",
       "50  0            9.6559292  9.6559292  \n",
       "57  0            9.9364726  9.9364726  \n",
       "60  0           -0.3541237 -0.3541237  \n",
       "63  0           10.0526500 10.0526500  \n",
       "70  0            6.2673801  6.2673801  \n",
       "73  0           12.2073670 12.2073670  \n",
       "76  0           -3.0465337 -3.0465337  \n",
       "83  0            2.6389378  2.6389378  \n",
       "86  0           12.6608594 12.6608594  \n",
       "89  0           14.9000981 14.9000981  \n",
       "96  0            4.9621539  4.9621539  \n",
       "99  0            2.1393738  2.1393738  \n",
       "102 0            8.8745638  8.8745638  \n",
       "109 0            5.7982644  5.7982644  \n",
       "112 0            7.7805045  7.7805045  \n",
       "115 0           13.3336073 13.3336073  \n",
       "122 0            9.5821837  9.5821837  \n",
       "125 0            1.5288653  1.5288653  \n",
       "128 0            7.2523041  7.2523041  \n",
       "... ...         ...        ...         \n",
       "388   0.00       6.3729655    6.3729655\n",
       "395   0.00      -0.2789259   -0.2789259\n",
       "398   3.63      17.5300246   13.9000246\n",
       "401   8.16      19.6730165   11.5130165\n",
       "408   0.00       3.3727267    3.3727267\n",
       "411   0.00      10.8585239   10.8585239\n",
       "414   0.00      28.1001680   28.1001680\n",
       "421 185.76      23.1272028 -162.6327972\n",
       "424   0.72       4.2262733    3.5062733\n",
       "427   0.00      25.4303442   25.4303442\n",
       "434  15.34      14.3255386   -1.0144614\n",
       "437   0.54      23.3093986   22.7693986\n",
       "440   0.33       1.0665615    0.7365615\n",
       "447   0.00      15.7700445   15.7700445\n",
       "450   0.00      22.7175557   22.7175557\n",
       "453   0.00      24.5442587   24.5442587\n",
       "460   1.94      30.1008480   28.1608480\n",
       "463   3.71      18.4867930   14.7767930\n",
       "466   6.84      -1.4703598   -8.3103598\n",
       "473   1.94      19.1900177   17.2500177\n",
       "476   3.19      10.0604817    6.8704817\n",
       "479   2.21      10.1653411    7.9553411\n",
       "486   2.07       5.2897814    3.2197814\n",
       "489  46.70       9.0934115  -37.6065885\n",
       "492   0.00      18.8492043   18.8492043\n",
       "499  40.54      21.7387814  -18.8012186\n",
       "502   0.00      15.4298055   15.4298055\n",
       "505  49.59      15.3878480  -34.2021520\n",
       "512   0.00      14.2816284   14.2816284\n",
       "515  11.16      13.9405058    2.7805058"
      ]
     },
     "metadata": {},
     "output_type": "display_data"
    }
   ],
   "source": [
    "lmodel=predict(lfire, newdata=fire_test)\n",
    "data.frame(Area_Burned= fire_test$area, prediction=lmodel, residual = lmodel-fire_test$area )"
   ]
  },
  {
   "cell_type": "code",
   "execution_count": 18,
   "metadata": {},
   "outputs": [
    {
     "data": {
      "image/png": "[encoded data removed]",
      "text/plain": [
       "plot without title"
      ]
     },
     "metadata": {},
     "output_type": "display_data"
    }
   ],
   "source": [
    "plot(lmodel-fire_test$area)\n"
   ]
  },
  {
   "cell_type": "markdown",
   "metadata": {},
   "source": [
    "Much of the residuals are pretty small this is due that the area burnt in the fires are usually very small as seen in the data exploration, there's an outlier so lets see what can the model tell us without the outlier. "
   ]
  },
  {
   "cell_type": "code",
   "execution_count": 19,
   "metadata": {},
   "outputs": [
    {
     "name": "stderr",
     "output_type": "stream",
     "text": [
      "Warning message in lmodel - fire_test$area[fire_test$area < 500]:\n",
      "\"longer object length is not a multiple of shorter object length\""
     ]
    },
    {
     "data": {
      "image/png": "[encoded data removed]",
      "text/plain": [
       "plot without title"
      ]
     },
     "metadata": {},
     "output_type": "display_data"
    }
   ],
   "source": [
    "plot(lmodel-fire_test$area[fire_test$area<500])"
   ]
  },
  {
   "cell_type": "markdown",
   "metadata": {},
   "source": [
    "As mentioned above, most of the fires are quite small. Therefor, the residuals tend to be close to 0."
   ]
  },
  {
   "cell_type": "code",
   "execution_count": 20,
   "metadata": {},
   "outputs": [
    {
     "data": {
      "text/html": [
       "22.0409170584097"
      ],
      "text/latex": [
       "22.0409170584097"
      ],
      "text/markdown": [
       "22.0409170584097"
      ],
      "text/plain": [
       "[1] 22.04092"
      ]
     },
     "metadata": {},
     "output_type": "display_data"
    },
    {
     "data": {
      "text/html": [
       "100.851054599294"
      ],
      "text/latex": [
       "100.851054599294"
      ],
      "text/markdown": [
       "100.851054599294"
      ],
      "text/plain": [
       "[1] 100.8511"
      ]
     },
     "metadata": {},
     "output_type": "display_data"
    },
    {
     "data": {
      "text/html": [
       "0.0099912199802078"
      ],
      "text/latex": [
       "0.0099912199802078"
      ],
      "text/markdown": [
       "0.0099912199802078"
      ],
      "text/plain": [
       "[1] 0.00999122"
      ]
     },
     "metadata": {},
     "output_type": "display_data"
    }
   ],
   "source": [
    "MAE(lmodel, fire_test$area)\n",
    "RMSE(lmodel, fire_test$area)\n",
    "R2(lmodel, fire_test$area, form = \"traditional\")"
   ]
  },
  {
   "cell_type": "markdown",
   "metadata": {},
   "source": [
    "Lastly we compared the accuracy of the model with the R2, it's only 0.0099 which means the model doesn't explains much of the area burnt. We could see that coming since none of the variables were significant in trying to explain the area burnt so it was expected to have such low R2. "
   ]
  },
  {
   "cell_type": "markdown",
   "metadata": {},
   "source": [
    "# SVM:\n",
    "\n",
    "The next model we are going to compare is Support Vectore Machine to see if we can get a better model"
   ]
  },
  {
   "cell_type": "code",
   "execution_count": 21,
   "metadata": {},
   "outputs": [
    {
     "name": "stderr",
     "output_type": "stream",
     "text": [
      "Loading required package: e1071\n",
      "Warning message:\n",
      "\"package 'e1071' was built under R version 3.6.3\""
     ]
    }
   ],
   "source": [
    "require(\"e1071\")\n"
   ]
  },
  {
   "cell_type": "code",
   "execution_count": 22,
   "metadata": {},
   "outputs": [],
   "source": [
    " model <- svm(area ~., data=fire_train,  gamma = '1.316872e-06', cost = 100, kernel = \"linear\")"
   ]
  },
  {
   "cell_type": "code",
   "execution_count": 23,
   "metadata": {},
   "outputs": [],
   "source": [
    "svm_prediction <- predict(model, newdata = fire_test)\n"
   ]
  },
  {
   "cell_type": "markdown",
   "metadata": {},
   "source": [
    "As multivariate regression, this model is not the best to try to explain and predict the area of the fire. The R2 obtained is -0.0161."
   ]
  },
  {
   "cell_type": "code",
   "execution_count": 24,
   "metadata": {
    "scrolled": true
   },
   "outputs": [
    {
     "data": {
      "text/html": [
       "18.5805606975892"
      ],
      "text/latex": [
       "18.5805606975892"
      ],
      "text/markdown": [
       "18.5805606975892"
      ],
      "text/plain": [
       "[1] 18.58056"
      ]
     },
     "metadata": {},
     "output_type": "display_data"
    },
    {
     "data": {
      "text/html": [
       "102.173553659876"
      ],
      "text/latex": [
       "102.173553659876"
      ],
      "text/markdown": [
       "102.173553659876"
      ],
      "text/plain": [
       "[1] 102.1736"
      ]
     },
     "metadata": {},
     "output_type": "display_data"
    },
    {
     "data": {
      "text/html": [
       "-0.0161437623992164"
      ],
      "text/latex": [
       "-0.0161437623992164"
      ],
      "text/markdown": [
       "-0.0161437623992164"
      ],
      "text/plain": [
       "[1] -0.01614376"
      ]
     },
     "metadata": {},
     "output_type": "display_data"
    }
   ],
   "source": [
    "MAE(svm_prediction , fire_test$area)\n",
    "RMSE(svm_prediction , fire_test$area)\n",
    "R2(svm_prediction , fire_test$area, form = \"traditional\")"
   ]
  },
  {
   "cell_type": "markdown",
   "metadata": {},
   "source": [
    "For the last model we are going to change things a little. SVM will be used but in a categorical way. The output will only be yes fire and no fire. It is going to be this way to change the approach, since we didn't obtained meaningful results in the previous models. \n",
    "\n",
    "The area burnt will have to change to the following:\n",
    "\n",
    "0 = no fire\n",
    "0< = fire\n",
    "\n",
    "we are going to predict weather a fire or not would occur"
   ]
  },
  {
   "cell_type": "code",
   "execution_count": 45,
   "metadata": {},
   "outputs": [],
   "source": [
    "#SVM\n",
    "#created a copy of the dataset since we are going to add a column weather a fire occured or not. It's not to alter the original dataset\n",
    "fire_train1<-fire_train\n",
    "fire_test1<-fire_test\n",
    "fire_train1$area2<- fire_train1$area  \n",
    "fire_test1$area2<- fire_test1$area\n",
    "fire_train1$area2[fire_train1$area>0] <-1\n",
    "fire_test1$area2[fire_test1$area2>0]<-1\n",
    "\n",
    "#changing the data into categorical\n",
    "\n",
    "fire_train1[[\"area2\"]] = factor(fire_train1[[\"area2\"]])"
   ]
  },
  {
   "cell_type": "markdown",
   "metadata": {},
   "source": [
    "The next step is building the model and choose the following parameters:\n",
    "method: Repeated Crossvalidation\n",
    "number: Times to do the resampling iterations\n",
    "repeat: sets to compute the repeated cross validations"
   ]
  },
  {
   "cell_type": "code",
   "execution_count": 26,
   "metadata": {},
   "outputs": [],
   "source": [
    "train_data <- trainControl(method = \"repeatedcv\", number = 10, repeats = 3)"
   ]
  },
  {
   "cell_type": "code",
   "execution_count": 27,
   "metadata": {},
   "outputs": [
    {
     "name": "stderr",
     "output_type": "stream",
     "text": [
      "Installing package into 'C:/Users/Sebastian/Documents/R/win-library/3.6'\n",
      "(as 'lib' is unspecified)\n",
      "Warning message:\n",
      "\"package 'e1071' is in use and will not be installed\""
     ]
    }
   ],
   "source": [
    "install.packages('e1071', dependencies=TRUE)"
   ]
  },
  {
   "cell_type": "code",
   "execution_count": 28,
   "metadata": {},
   "outputs": [],
   "source": [
    "fire_svm <- train(area2 ~rain+temp+RH+wind+ISI+DC+DMC+FFMC+month+day+X+Y, data = fire_train1, method = \"svmLinear\",\n",
    "trvControl=train_data,\n",
    "preProcess = c(\"center\", \"scale\"),\n",
    "tuneLength = 10)"
   ]
  },
  {
   "cell_type": "code",
   "execution_count": 29,
   "metadata": {},
   "outputs": [
    {
     "data": {
      "text/plain": [
       "Support Vector Machines with Linear Kernel \n",
       "\n",
       "398 samples\n",
       " 12 predictor\n",
       "  2 classes: '0', '1' \n",
       "\n",
       "Pre-processing: centered (12), scaled (12) \n",
       "Resampling: Bootstrapped (25 reps) \n",
       "Summary of sample sizes: 398, 398, 398, 398, 398, 398, ... \n",
       "Resampling results:\n",
       "\n",
       "  Accuracy   Kappa      \n",
       "  0.5007181  0.004264639\n",
       "\n",
       "Tuning parameter 'C' was held constant at a value of 1"
      ]
     },
     "metadata": {},
     "output_type": "display_data"
    }
   ],
   "source": [
    "fire_svm"
   ]
  },
  {
   "cell_type": "code",
   "execution_count": 30,
   "metadata": {},
   "outputs": [
    {
     "data": {
      "text/plain": [
       "Confusion Matrix and Statistics\n",
       "\n",
       "               \n",
       "fire_prediction  0  1\n",
       "              0 16 13\n",
       "              1 39 51\n",
       "                                          \n",
       "               Accuracy : 0.563           \n",
       "                 95% CI : (0.4691, 0.6537)\n",
       "    No Information Rate : 0.5378          \n",
       "    P-Value [Acc > NIR] : 0.3236310       \n",
       "                                          \n",
       "                  Kappa : 0.0908          \n",
       "                                          \n",
       " Mcnemar's Test P-Value : 0.0005265       \n",
       "                                          \n",
       "            Sensitivity : 0.2909          \n",
       "            Specificity : 0.7969          \n",
       "         Pos Pred Value : 0.5517          \n",
       "         Neg Pred Value : 0.5667          \n",
       "             Prevalence : 0.4622          \n",
       "         Detection Rate : 0.1345          \n",
       "   Detection Prevalence : 0.2437          \n",
       "      Balanced Accuracy : 0.5439          \n",
       "                                          \n",
       "       'Positive' Class : 0               \n",
       "                                          "
      ]
     },
     "metadata": {},
     "output_type": "display_data"
    }
   ],
   "source": [
    "fire_prediction <- predict(fire_svm, newdata= fire_test1)\n",
    "confusionMatrix(table(fire_prediction, fire_test1$area2))"
   ]
  },
  {
   "cell_type": "code",
   "execution_count": 31,
   "metadata": {},
   "outputs": [
    {
     "data": {
      "image/png": "[encoded data removed]",
      "text/plain": [
       "plot without title"
      ]
     },
     "metadata": {},
     "output_type": "display_data"
    }
   ],
   "source": [
    "plot(fire_prediction)"
   ]
  },
  {
   "cell_type": "markdown",
   "metadata": {},
   "source": [
    "This gives us an accuracy of 56%! Still not the best but it's much more higher than the previous models. "
   ]
  },
  {
   "cell_type": "markdown",
   "metadata": {},
   "source": [
    "## Logistic Regression"
   ]
  },
  {
   "cell_type": "markdown",
   "metadata": {},
   "source": [
    "Removing the area column to train the model"
   ]
  },
  {
   "cell_type": "code",
   "execution_count": 46,
   "metadata": {},
   "outputs": [
    {
     "data": {
      "text/html": [
       "<table>\n",
       "<thead><tr><th></th><th scope=col>X</th><th scope=col>Y</th><th scope=col>month</th><th scope=col>day</th><th scope=col>FFMC</th><th scope=col>DMC</th><th scope=col>DC</th><th scope=col>ISI</th><th scope=col>temp</th><th scope=col>RH</th><th scope=col>wind</th><th scope=col>rain</th><th scope=col>area2</th></tr></thead>\n",
       "<tbody>\n",
       "\t<tr><th scope=row>510</th><td>5    </td><td>4    </td><td> 2   </td><td>1    </td><td>91.0 </td><td>166.9</td><td>752.6</td><td> 7.1 </td><td>21.1 </td><td>71   </td><td>7.6  </td><td>1.4  </td><td>1    </td></tr>\n",
       "\t<tr><th scope=row>511</th><td>6    </td><td>5    </td><td> 2   </td><td>1    </td><td>91.0 </td><td>166.9</td><td>752.6</td><td> 7.1 </td><td>18.2 </td><td>62   </td><td>5.4  </td><td>0.0  </td><td>1    </td></tr>\n",
       "\t<tr><th scope=row>513</th><td>4    </td><td>3    </td><td> 2   </td><td>4    </td><td>81.6 </td><td> 56.7</td><td>665.6</td><td> 1.9 </td><td>27.8 </td><td>32   </td><td>2.7  </td><td>0.0  </td><td>1    </td></tr>\n",
       "\t<tr><th scope=row>514</th><td>2    </td><td>4    </td><td> 2   </td><td>4    </td><td>81.6 </td><td> 56.7</td><td>665.6</td><td> 1.9 </td><td>21.9 </td><td>71   </td><td>5.8  </td><td>0.0  </td><td>1    </td></tr>\n",
       "\t<tr><th scope=row>516</th><td>1    </td><td>4    </td><td> 2   </td><td>3    </td><td>94.4 </td><td>146.0</td><td>614.7</td><td>11.3 </td><td>25.6 </td><td>42   </td><td>4.0  </td><td>0.0  </td><td>0    </td></tr>\n",
       "\t<tr><th scope=row>517</th><td>6    </td><td>3    </td><td>10   </td><td>6    </td><td>79.5 </td><td>  3.0</td><td>106.7</td><td> 1.1 </td><td>11.8 </td><td>31   </td><td>4.5  </td><td>0.0  </td><td>0    </td></tr>\n",
       "</tbody>\n",
       "</table>\n"
      ],
      "text/latex": [
       "\\begin{tabular}{r|lllllllllllll}\n",
       "  & X & Y & month & day & FFMC & DMC & DC & ISI & temp & RH & wind & rain & area2\\\\\n",
       "\\hline\n",
       "\t510 & 5     & 4     &  2    & 1     & 91.0  & 166.9 & 752.6 &  7.1  & 21.1  & 71    & 7.6   & 1.4   & 1    \\\\\n",
       "\t511 & 6     & 5     &  2    & 1     & 91.0  & 166.9 & 752.6 &  7.1  & 18.2  & 62    & 5.4   & 0.0   & 1    \\\\\n",
       "\t513 & 4     & 3     &  2    & 4     & 81.6  &  56.7 & 665.6 &  1.9  & 27.8  & 32    & 2.7   & 0.0   & 1    \\\\\n",
       "\t514 & 2     & 4     &  2    & 4     & 81.6  &  56.7 & 665.6 &  1.9  & 21.9  & 71    & 5.8   & 0.0   & 1    \\\\\n",
       "\t516 & 1     & 4     &  2    & 3     & 94.4  & 146.0 & 614.7 & 11.3  & 25.6  & 42    & 4.0   & 0.0   & 0    \\\\\n",
       "\t517 & 6     & 3     & 10    & 6     & 79.5  &   3.0 & 106.7 &  1.1  & 11.8  & 31    & 4.5   & 0.0   & 0    \\\\\n",
       "\\end{tabular}\n"
      ],
      "text/markdown": [
       "\n",
       "| <!--/--> | X | Y | month | day | FFMC | DMC | DC | ISI | temp | RH | wind | rain | area2 |\n",
       "|---|---|---|---|---|---|---|---|---|---|---|---|---|---|\n",
       "| 510 | 5     | 4     |  2    | 1     | 91.0  | 166.9 | 752.6 |  7.1  | 21.1  | 71    | 7.6   | 1.4   | 1     |\n",
       "| 511 | 6     | 5     |  2    | 1     | 91.0  | 166.9 | 752.6 |  7.1  | 18.2  | 62    | 5.4   | 0.0   | 1     |\n",
       "| 513 | 4     | 3     |  2    | 4     | 81.6  |  56.7 | 665.6 |  1.9  | 27.8  | 32    | 2.7   | 0.0   | 1     |\n",
       "| 514 | 2     | 4     |  2    | 4     | 81.6  |  56.7 | 665.6 |  1.9  | 21.9  | 71    | 5.8   | 0.0   | 1     |\n",
       "| 516 | 1     | 4     |  2    | 3     | 94.4  | 146.0 | 614.7 | 11.3  | 25.6  | 42    | 4.0   | 0.0   | 0     |\n",
       "| 517 | 6     | 3     | 10    | 6     | 79.5  |   3.0 | 106.7 |  1.1  | 11.8  | 31    | 4.5   | 0.0   | 0     |\n",
       "\n"
      ],
      "text/plain": [
       "    X Y month day FFMC DMC   DC    ISI  temp RH wind rain area2\n",
       "510 5 4  2    1   91.0 166.9 752.6  7.1 21.1 71 7.6  1.4  1    \n",
       "511 6 5  2    1   91.0 166.9 752.6  7.1 18.2 62 5.4  0.0  1    \n",
       "513 4 3  2    4   81.6  56.7 665.6  1.9 27.8 32 2.7  0.0  1    \n",
       "514 2 4  2    4   81.6  56.7 665.6  1.9 21.9 71 5.8  0.0  1    \n",
       "516 1 4  2    3   94.4 146.0 614.7 11.3 25.6 42 4.0  0.0  0    \n",
       "517 6 3 10    6   79.5   3.0 106.7  1.1 11.8 31 4.5  0.0  0    "
      ]
     },
     "metadata": {},
     "output_type": "display_data"
    }
   ],
   "source": [
    "\n",
    "fire_train1 <- subset(fire_train1, select= -c(area))\n",
    "tail(fire_train1)\n"
   ]
  },
  {
   "cell_type": "code",
   "execution_count": 43,
   "metadata": {},
   "outputs": [
    {
     "data": {
      "text/html": [
       "<table>\n",
       "<thead><tr><th></th><th scope=col>X</th><th scope=col>Y</th><th scope=col>month</th><th scope=col>day</th><th scope=col>FFMC</th><th scope=col>DMC</th><th scope=col>DC</th><th scope=col>ISI</th><th scope=col>temp</th><th scope=col>RH</th><th scope=col>wind</th><th scope=col>rain</th><th scope=col>area2</th></tr></thead>\n",
       "<tbody>\n",
       "\t<tr><th scope=row>492</th><td>4    </td><td>4    </td><td>2    </td><td>5    </td><td>95.8 </td><td>152.0</td><td>624.1</td><td>13.8 </td><td>32.4 </td><td>21   </td><td>4.5  </td><td>0.0  </td><td>0    </td></tr>\n",
       "\t<tr><th scope=row>499</th><td>6    </td><td>5    </td><td>2    </td><td>6    </td><td>96.1 </td><td>181.1</td><td>671.2</td><td>14.3 </td><td>33.3 </td><td>26   </td><td>2.7  </td><td>0.0  </td><td>1    </td></tr>\n",
       "\t<tr><th scope=row>502</th><td>7    </td><td>5    </td><td>2    </td><td>6    </td><td>96.1 </td><td>181.1</td><td>671.2</td><td>14.3 </td><td>21.6 </td><td>65   </td><td>4.9  </td><td>0.8  </td><td>0    </td></tr>\n",
       "\t<tr><th scope=row>505</th><td>4    </td><td>3    </td><td>2    </td><td>7    </td><td>94.5 </td><td>139.4</td><td>689.1</td><td>20.0 </td><td>28.9 </td><td>29   </td><td>4.9  </td><td>0.0  </td><td>1    </td></tr>\n",
       "\t<tr><th scope=row>512</th><td>8    </td><td>6    </td><td>2    </td><td>4    </td><td>81.6 </td><td> 56.7</td><td>665.6</td><td> 1.9 </td><td>27.8 </td><td>35   </td><td>2.7  </td><td>0.0  </td><td>0    </td></tr>\n",
       "\t<tr><th scope=row>515</th><td>7    </td><td>4    </td><td>2    </td><td>4    </td><td>81.6 </td><td> 56.7</td><td>665.6</td><td> 1.9 </td><td>21.2 </td><td>70   </td><td>6.7  </td><td>0.0  </td><td>1    </td></tr>\n",
       "</tbody>\n",
       "</table>\n"
      ],
      "text/latex": [
       "\\begin{tabular}{r|lllllllllllll}\n",
       "  & X & Y & month & day & FFMC & DMC & DC & ISI & temp & RH & wind & rain & area2\\\\\n",
       "\\hline\n",
       "\t492 & 4     & 4     & 2     & 5     & 95.8  & 152.0 & 624.1 & 13.8  & 32.4  & 21    & 4.5   & 0.0   & 0    \\\\\n",
       "\t499 & 6     & 5     & 2     & 6     & 96.1  & 181.1 & 671.2 & 14.3  & 33.3  & 26    & 2.7   & 0.0   & 1    \\\\\n",
       "\t502 & 7     & 5     & 2     & 6     & 96.1  & 181.1 & 671.2 & 14.3  & 21.6  & 65    & 4.9   & 0.8   & 0    \\\\\n",
       "\t505 & 4     & 3     & 2     & 7     & 94.5  & 139.4 & 689.1 & 20.0  & 28.9  & 29    & 4.9   & 0.0   & 1    \\\\\n",
       "\t512 & 8     & 6     & 2     & 4     & 81.6  &  56.7 & 665.6 &  1.9  & 27.8  & 35    & 2.7   & 0.0   & 0    \\\\\n",
       "\t515 & 7     & 4     & 2     & 4     & 81.6  &  56.7 & 665.6 &  1.9  & 21.2  & 70    & 6.7   & 0.0   & 1    \\\\\n",
       "\\end{tabular}\n"
      ],
      "text/markdown": [
       "\n",
       "| <!--/--> | X | Y | month | day | FFMC | DMC | DC | ISI | temp | RH | wind | rain | area2 |\n",
       "|---|---|---|---|---|---|---|---|---|---|---|---|---|---|\n",
       "| 492 | 4     | 4     | 2     | 5     | 95.8  | 152.0 | 624.1 | 13.8  | 32.4  | 21    | 4.5   | 0.0   | 0     |\n",
       "| 499 | 6     | 5     | 2     | 6     | 96.1  | 181.1 | 671.2 | 14.3  | 33.3  | 26    | 2.7   | 0.0   | 1     |\n",
       "| 502 | 7     | 5     | 2     | 6     | 96.1  | 181.1 | 671.2 | 14.3  | 21.6  | 65    | 4.9   | 0.8   | 0     |\n",
       "| 505 | 4     | 3     | 2     | 7     | 94.5  | 139.4 | 689.1 | 20.0  | 28.9  | 29    | 4.9   | 0.0   | 1     |\n",
       "| 512 | 8     | 6     | 2     | 4     | 81.6  |  56.7 | 665.6 |  1.9  | 27.8  | 35    | 2.7   | 0.0   | 0     |\n",
       "| 515 | 7     | 4     | 2     | 4     | 81.6  |  56.7 | 665.6 |  1.9  | 21.2  | 70    | 6.7   | 0.0   | 1     |\n",
       "\n"
      ],
      "text/plain": [
       "    X Y month day FFMC DMC   DC    ISI  temp RH wind rain area2\n",
       "492 4 4 2     5   95.8 152.0 624.1 13.8 32.4 21 4.5  0.0  0    \n",
       "499 6 5 2     6   96.1 181.1 671.2 14.3 33.3 26 2.7  0.0  1    \n",
       "502 7 5 2     6   96.1 181.1 671.2 14.3 21.6 65 4.9  0.8  0    \n",
       "505 4 3 2     7   94.5 139.4 689.1 20.0 28.9 29 4.9  0.0  1    \n",
       "512 8 6 2     4   81.6  56.7 665.6  1.9 27.8 35 2.7  0.0  0    \n",
       "515 7 4 2     4   81.6  56.7 665.6  1.9 21.2 70 6.7  0.0  1    "
      ]
     },
     "metadata": {},
     "output_type": "display_data"
    }
   ],
   "source": [
    "fire_test1 <- subset(fire_test1, select= -c(area))\n",
    "tail(fire_test1)"
   ]
  },
  {
   "cell_type": "markdown",
   "metadata": {},
   "source": [
    "With glm function we can train the Logistic regression model"
   ]
  },
  {
   "cell_type": "code",
   "execution_count": 54,
   "metadata": {},
   "outputs": [
    {
     "data": {
      "text/plain": [
       "\n",
       "Call:\n",
       "glm(formula = area2 ~ ., family = binomial, data = fire_train1)\n",
       "\n",
       "Deviance Residuals: \n",
       "    Min       1Q   Median       3Q      Max  \n",
       "-1.5214  -1.1845   0.9244   1.1110   1.5315  \n",
       "\n",
       "Coefficients:\n",
       "              Estimate Std. Error z value Pr(>|z|)  \n",
       "(Intercept) -6.2530424  3.0537660  -2.048   0.0406 *\n",
       "X            0.0271457  0.0528326   0.514   0.6074  \n",
       "Y            0.1102362  0.1015277   1.086   0.2776  \n",
       "month       -0.0241843  0.0281837  -0.858   0.3908  \n",
       "day          0.0158338  0.0538011   0.294   0.7685  \n",
       "FFMC         0.0543300  0.0328702   1.653   0.0984 .\n",
       "DMC         -0.0041891  0.0026064  -1.607   0.1080  \n",
       "DC           0.0014165  0.0006826   2.075   0.0380 *\n",
       "ISI         -0.0411935  0.0317828  -1.296   0.1949  \n",
       "temp         0.0180472  0.0295127   0.612   0.5409  \n",
       "RH           0.0047291  0.0090709   0.521   0.6021  \n",
       "wind         0.1008561  0.0634632   1.589   0.1120  \n",
       "rain         0.1153767  0.3791619   0.304   0.7609  \n",
       "---\n",
       "Signif. codes:  0 '***' 0.001 '**' 0.01 '*' 0.05 '.' 0.1 ' ' 1\n",
       "\n",
       "(Dispersion parameter for binomial family taken to be 1)\n",
       "\n",
       "    Null deviance: 551.25  on 397  degrees of freedom\n",
       "Residual deviance: 537.28  on 385  degrees of freedom\n",
       "AIC: 563.28\n",
       "\n",
       "Number of Fisher Scoring iterations: 4\n"
      ]
     },
     "metadata": {},
     "output_type": "display_data"
    }
   ],
   "source": [
    "glm.fit<- glm(area2~., data = fire_train1, family = binomial)\n",
    "summary(glm.fit)"
   ]
  },
  {
   "cell_type": "markdown",
   "metadata": {},
   "source": [
    "All of the P values are greater the 0.05, except for DC. This is a clear indication that the variables don't help explain the model, therefor the overall accuracy of the Logistic Regression should't be that promising."
   ]
  },
  {
   "cell_type": "code",
   "execution_count": 59,
   "metadata": {},
   "outputs": [],
   "source": [
    "glm.probs <- predict(glm.fit,newdata = fire_test1,type = \"response\")"
   ]
  },
  {
   "cell_type": "code",
   "execution_count": 60,
   "metadata": {},
   "outputs": [],
   "source": [
    "glm.pred <- ifelse(glm.probs > 0.5, \"1\", \"0\")"
   ]
  },
  {
   "cell_type": "code",
   "execution_count": 62,
   "metadata": {
    "scrolled": true
   },
   "outputs": [
    {
     "name": "stderr",
     "output_type": "stream",
     "text": [
      "The following objects are masked from fire_train1:\n",
      "\n",
      "    area2, day, DC, DMC, FFMC, ISI, month, rain, RH, temp, wind, X, Y\n",
      "\n"
     ]
    },
    {
     "data": {
      "text/plain": [
       "        area2\n",
       "glm.pred  0  1\n",
       "       0 22 21\n",
       "       1 33 43"
      ]
     },
     "metadata": {},
     "output_type": "display_data"
    }
   ],
   "source": [
    "attach(fire_test1)\n",
    "table(glm.pred,area2)"
   ]
  },
  {
   "cell_type": "code",
   "execution_count": 63,
   "metadata": {},
   "outputs": [
    {
     "data": {
      "text/html": [
       "0.546218487394958"
      ],
      "text/latex": [
       "0.546218487394958"
      ],
      "text/markdown": [
       "0.546218487394958"
      ],
      "text/plain": [
       "[1] 0.5462185"
      ]
     },
     "metadata": {},
     "output_type": "display_data"
    }
   ],
   "source": [
    "mean(glm.pred == area2)"
   ]
  },
  {
   "cell_type": "markdown",
   "metadata": {},
   "source": [
    "As stated before, the overall accuracy of the model isn't that great. 54% accuracy was obtained while training the model."
   ]
  },
  {
   "cell_type": "markdown",
   "metadata": {},
   "source": [
    "## 4. Model Comparsion<a class=\"anchor\" id=\"sec_4\"></a>"
   ]
  },
  {
   "cell_type": "markdown",
   "metadata": {},
   "source": [
    "*Please note the much of the model comparisons is disscused above and here is just a brief summary\n",
    "\n",
    "The first model which was the multivariate linear regresion has an R2 of 0.009 which is not the best. As we saw in the model none of the variables are significant to explain the area burnt.\n",
    "\n",
    "The second model which is SVM has an R2 of -.016 which is better than the multivariate regression which is not the best to try to describe the fires impact. \n",
    "\n",
    "The best model we got is the SVM with categorical yes or no with the fires. We tried to change the approach and see how accurate will the model predict the occurance of a fire with the current variables. By far it was the most accurate model with 56% of accuracy. Still not the best but it's a huge improvement compared to the others. It can be used to determine if a fire can occur but not what would the magnitud of the fire will be. "
   ]
  },
  {
   "cell_type": "markdown",
   "metadata": {},
   "source": [
    "It is important to determine what could have went wrong? Why did the models perform horribly bad? Well, looking back to the data exploration, the data is skewed to the left due to most of the fire areas are either 0 or small. So, when building the model there's huge disparities between big fire areas and small fire areas. That is why when log was applied to the distribution the data looked better. For future steps a data normalization would need to be done in order to have more accurate results. Therefore the categorical yes or no fire performed much better than the linear regression.\n"
   ]
  },
  {
   "cell_type": "markdown",
   "metadata": {},
   "source": [
    "## 6. Conclusion <a class=\"anchor\" id=\"sec_6\"></a>"
   ]
  },
  {
   "cell_type": "markdown",
   "metadata": {},
   "source": [
    "1. The best approach to answering the occurance of a forest fire occures with an SVM model which we can preddict weather a fire can occur or not\n",
    "2. A normalization of the data needs to be performed in order to have more accurate results\n",
    "3. A multivariate Linear models does not models the data with enough accuracy to preddcit future fires\n",
    "5. There are different techniques such as Lasso to pull out irrelevant attributes"
   ]
  },
  {
   "cell_type": "markdown",
   "metadata": {},
   "source": [
    "## 7. References <a class=\"anchor\" id=\"sec_7\"></a>"
   ]
  },
  {
   "cell_type": "markdown",
   "metadata": {},
   "source": [
    "1. Garg, Adita, \"Splitting the Dataset\", 2017. https://rpubs.com/ID_Tech/S1\n",
    "2. Kassambara, \"Linear Regression and Essentials in R\", 2018. http://www.sthda.com/english/articles/40-regression-analysis/165-linear-regression-essentials-in-r/\n",
    "3. Kitching,R. \"Predicting Forest Fires: Linear Modelling\",2018. https://rpubs.com/RebeccaElizabeth23/PredictForestFire\n",
    "4. P. Cortez and A. Morais. \"A Data Mining Approach to Predict Forest Fires using Meteorological Data\" http://www3.dsi.uminho.pt/pcortez/fires.pdf\n",
    "5. \"What Influences Forest Fires Area?\", http://www.columbia.edu/~yh2693/ForestFire.html\n",
    "6. Lateef, Z. \" Support Vector Machine In R: Using SVM To Predict Heart Diseases \", 2018, https://www.edureka.co/blog/support-vector-machine-in-r/"
   ]
  }
 ],
 "metadata": {
  "kernelspec": {
   "display_name": "R",
   "language": "R",
   "name": "ir"
  },
  "language_info": {
   "codemirror_mode": "r",
   "file_extension": ".r",
   "mimetype": "text/x-r-source",
   "name": "R",
   "pygments_lexer": "r",
   "version": "3.6.1"
  }
 },
 "nbformat": 4,
 "nbformat_minor": 2
}
